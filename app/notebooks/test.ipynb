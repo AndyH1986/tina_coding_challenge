{
 "cells": [
  {
   "cell_type": "code",
   "execution_count": 2,
   "metadata": {},
   "outputs": [],
   "source": [
    "import pandas as pd"
   ]
  },
  {
   "cell_type": "code",
   "execution_count": 3,
   "metadata": {},
   "outputs": [],
   "source": [
    "df_currancy = pd.read_excel(\"../data/index_currency_list.xlsx\", skiprows=1)\n",
    "\n",
    "lst_choose_index = df_currancy.columns[1:].to_list()\n",
    "lst_index_currency = df_currancy.iloc[0].to_list()[1:]\n",
    "\n",
    "dct = dict(zip(lst_choose_index, lst_index_currency))"
   ]
  },
  {
   "cell_type": "code",
   "execution_count": 5,
   "metadata": {},
   "outputs": [
    {
     "name": "stdout",
     "output_type": "stream",
     "text": [
      "USD\n"
     ]
    }
   ],
   "source": [
    "test_lst = [\"Index 1\"]\n",
    "\n",
    "for i in test_lst:\n",
    "    print(dct[i])"
   ]
  },
  {
   "cell_type": "code",
   "execution_count": 25,
   "metadata": {},
   "outputs": [],
   "source": [
    "df_exchange = pd.read_excel(\"../data/index_currency_list.xlsx\", sheet_name=\"currency List\" ,skiprows=1)\n",
    "\n",
    "lst_base_currancy = df_exchange.columns[1:].to_list()\n",
    "\n",
    "lst_reference_date = df_exchange[\"Index Æ\\nMonth \"].to_list()"
   ]
  },
  {
   "cell_type": "code",
   "execution_count": 31,
   "metadata": {},
   "outputs": [
    {
     "data": {
      "text/plain": [
       "['2021-01-01',\n",
       " '2021-02-01',\n",
       " '2021-03-01',\n",
       " '2021-04-01',\n",
       " '2021-05-01',\n",
       " '2021-06-01',\n",
       " '2021-07-01',\n",
       " '2021-08-01',\n",
       " '2021-09-01',\n",
       " '2021-10-01',\n",
       " '2021-11-01',\n",
       " '2021-12-01',\n",
       " '2022-01-01',\n",
       " '2022-02-01',\n",
       " '2022-03-01',\n",
       " '2022-04-01',\n",
       " '2022-05-01',\n",
       " '2022-06-01',\n",
       " '2022-07-01',\n",
       " '2022-08-01']"
      ]
     },
     "execution_count": 31,
     "metadata": {},
     "output_type": "execute_result"
    }
   ],
   "source": [
    "df_exchange[\"Index Æ\\nMonth \"].astype(str).to_list()"
   ]
  }
 ],
 "metadata": {
  "kernelspec": {
   "display_name": "venv",
   "language": "python",
   "name": "python3"
  },
  "language_info": {
   "codemirror_mode": {
    "name": "ipython",
    "version": 3
   },
   "file_extension": ".py",
   "mimetype": "text/x-python",
   "name": "python",
   "nbconvert_exporter": "python",
   "pygments_lexer": "ipython3",
   "version": "3.8.10"
  },
  "orig_nbformat": 4
 },
 "nbformat": 4,
 "nbformat_minor": 2
}
